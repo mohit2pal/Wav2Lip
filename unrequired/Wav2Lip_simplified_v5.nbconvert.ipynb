{
 "cells": [
  {
   "cell_type": "code",
   "execution_count": 22,
   "metadata": {
    "id": "Qgo-oaI3JU2u"
   },
   "outputs": [
    {
     "data": {
      "text/plain": [
       "0"
      ]
     },
     "execution_count": 22,
     "metadata": {},
     "output_type": "execute_result"
    }
   ],
   "source": [
    "import os\n",
    "\n",
    "# Remove the sample_data directory\n",
    "os.system('rmdir /s /content/sample_data')\n",
    "\n",
    "# Create a new sample_data directory\n",
    "os.system('mkdir /content/sample_data')\n",
    "\n",
    "# Clone the Wav2Lip repository\n",
    "os.system('git clone https://github.com/justinjohn0306/Wav2Lip')\n",
    "\n",
    "# Download the wav2lip_gan.pth checkpoint file\n",
    "os.system('curl -o \\'Wav2Lip/checkpoints/wav2lip_gan.pth\\' \\'https://iiitaphyd-my.sharepoint.com/personal/radrabha_m_research_iiit_ac_in/_layouts/15/download.aspx?share=EdjI7bZlgApMqsVoEUUXpLsBxqXbn5z8VTmoxp55YNDcIA\\'')\n",
    "\n",
    "# Install the ghc package\n",
    "os.system('pip install https://raw.githubusercontent.com/AwaleSajil/ghc/master/ghc-1.0-py3-none-any.whl')\n",
    "\n",
    "# Install the requirements for Wav2Lip\n",
    "os.chdir('Wav2Lip')\n",
    "os.system('pip install -r requirements.txt')\n",
    "\n",
    "# Download the s3fd.pth file\n",
    "os.system('curl -O \"Wav2Lip/face_detection/detection/sfd/s3fd.pth\" \"https://www.adrianbulat.com/downloads/python-fan/s3fd-619a316812.pth\"')\n",
    "\n",
    "# Install the ffmpeg-python package\n",
    "os.system('pip install ffmpeg-python')"
   ]
  },
  {
   "cell_type": "markdown",
   "metadata": {
    "id": "vYxpPeie1CYL"
   },
   "source": [
    "# LipSync on Your Video File"
   ]
  },
  {
   "cell_type": "code",
   "execution_count": 11,
   "metadata": {
    "cellView": "form",
    "id": "nDuM7tfZ1F0t"
   },
   "outputs": [
    {
     "name": "stdout",
     "output_type": "stream",
     "text": [
      "Video resolution: (1280, 720)\n",
      "Resizing video to 720p...\n",
      "Video resized to 720p\n"
     ]
    }
   ],
   "source": [
    "import os\n",
    "import shutil\n",
    "from base64 import b64encode\n",
    "import moviepy.editor as mp\n",
    "\n",
    "\n",
    "\n",
    "def get_video_resolution(video_path):\n",
    "    \"\"\"Function to get the resolution of a video\"\"\"\n",
    "    import cv2\n",
    "    video = cv2.VideoCapture(video_path)\n",
    "    width = int(video.get(cv2.CAP_PROP_FRAME_WIDTH))\n",
    "    height = int(video.get(cv2.CAP_PROP_FRAME_HEIGHT))\n",
    "    return (width, height)\n",
    "\n",
    "def resize_video(video_path, new_resolution):\n",
    "    \"\"\"Function to resize a video\"\"\"\n",
    "    import cv2\n",
    "    video = cv2.VideoCapture(video_path)\n",
    "    fourcc = int(video.get(cv2.CAP_PROP_FOURCC))\n",
    "    fps = video.get(cv2.CAP_PROP_FPS)\n",
    "    width, height = new_resolution\n",
    "    output_path = os.path.splitext(video_path)[0] + '_720p.mp4'\n",
    "    writer = cv2.VideoWriter(output_path, fourcc, fps, (width, height))\n",
    "    while True:\n",
    "        success, frame = video.read()\n",
    "        if not success:\n",
    "            break\n",
    "        resized_frame = cv2.resize(frame, new_resolution)\n",
    "        writer.write(resized_frame)\n",
    "    video.release()\n",
    "    writer.release()\n",
    "    \n",
    "PATH_TO_YOUR_VIDEO = 'C:/Github/Wav2Lip/test.mp4'\n",
    "\n",
    "video_duration = mp.VideoFileClip(PATH_TO_YOUR_VIDEO).duration\n",
    "if video_duration > 60:\n",
    "    print(\"WARNING: Video duration exceeds 60 seconds. Please upload a shorter video.\")\n",
    "    raise SystemExit(0)\n",
    "\n",
    "video_resolution = get_video_resolution(PATH_TO_YOUR_VIDEO)\n",
    "print(f\"Video resolution: {video_resolution}\")\n",
    "if video_resolution[0] >= 480 or video_resolution[1] >= 480:\n",
    "    print(\"Resizing video to 720p...\")\n",
    "    os.system(f\"ffmpeg -i {PATH_TO_YOUR_VIDEO} -vf scale=1280:720 C:/Github/Wav2Lip/sample_data/input_vid.mp4\")\n",
    "    PATH_TO_YOUR_VIDEO = \"input_vid.mp4\"\n",
    "    print(\"Video resized to 720p\")\n",
    "else:\n",
    "    print(\"No resizing needed\")"
   ]
  },
  {
   "cell_type": "code",
   "execution_count": 24,
   "metadata": {
    "cellView": "form",
    "id": "ZgtO08V28ANf"
   },
   "outputs": [],
   "source": [
    "import os\n",
    "\n",
    "# Change directory to Wav2Lip\n",
    "os.chdir('C:/Github/Wav2Lip/Wav2Lip')\n",
    "\n",
    "# Execute inference.py with the specified arguments\n",
    "os.system('python inference.py --checkpoint_path checkpoints/wav2lip_gan.pth --face \"../sample_data/input_vid.mp4\" --audio \"../sample_data/input_audio.wav\" --pads 0 10 0 0 --resize_factor 1')"
   ]
  }
 ],
 "metadata": {
  "accelerator": "GPU",
  "colab": {
   "private_outputs": true,
   "provenance": []
  },
  "kernelspec": {
   "display_name": "Python 3",
   "name": "python3"
  },
  "language_info": {
   "codemirror_mode": {
    "name": "ipython",
    "version": 3
   },
   "file_extension": ".py",
   "mimetype": "text/x-python",
   "name": "python",
   "nbconvert_exporter": "python",
   "pygments_lexer": "ipython3",
   "version": "3.10.11"
  }
 },
 "nbformat": 4,
 "nbformat_minor": 0
}
